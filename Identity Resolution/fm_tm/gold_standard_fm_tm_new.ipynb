{
 "cells": [
  {
   "cell_type": "code",
   "execution_count": 1,
   "metadata": {},
   "outputs": [],
   "source": [
    "import sys\n",
    "sys.path.append('../')  # Füge das übergeordnete Verzeichnis zum Python-Pfad hinzu\n",
    "\n",
    "# Jetzt kannst du das Modul aus dem übergeordneten Verzeichnis importieren\n",
    "from gold_standard import * "
   ]
  },
  {
   "cell_type": "code",
   "execution_count": 11,
   "metadata": {},
   "outputs": [],
   "source": [
    "# Read XML-Files\n",
    "# df_eafc = pd.read_xml('../../Football-Project/data/xml-files/eafc_final.xml')\n",
    "df_fm23 = pd.read_xml('../../Football-Project/data/xml-files/fm23_final.xml')\n",
    "df_tm = pd.read_xml('../../Football-Project/data/xml-files/tm_final.xml')\n",
    "\n",
    "# Take only a sample of the whole dataset. Saves compute power\n",
    "subset_size = 3500\n",
    "df_tm_sampled = df_tm.sample(n=subset_size, random_state=42)"
   ]
  },
  {
   "cell_type": "code",
   "execution_count": 7,
   "metadata": {},
   "outputs": [
    {
     "name": "stdout",
     "output_type": "stream",
     "text": [
      "(17439, 13)\n",
      "(9867, 8)\n"
     ]
    }
   ],
   "source": [
    "print(df_fm23.shape)\n",
    "print(df_tm.shape)"
   ]
  },
  {
   "cell_type": "code",
   "execution_count": 12,
   "metadata": {},
   "outputs": [],
   "source": [
    "# Create similarity matrixes for differenct similarity functions and columns\n",
    "similarity_matrix_name = get_similarity_matrix(leventstein_similarity, df_tm_sampled['name'], df_fm23['name'])\n",
    "similarity_matrix_date = get_similarity_matrix(date_similarity, df_tm_sampled['birthdate'], df_fm23['birthdate'])\n",
    "#similarity_matrix_club = get_similarity_matrix(leventstein_similarity, df_tm_sampled['club'], df_fm23['club'])"
   ]
  },
  {
   "cell_type": "code",
   "execution_count": 13,
   "metadata": {},
   "outputs": [
    {
     "data": {
      "text/plain": [
       "<Axes: >"
      ]
     },
     "execution_count": 13,
     "metadata": {},
     "output_type": "execute_result"
    },
    {
     "data": {
      "image/png": "[encoded data removed]",
      "text/plain": [
       "<Figure size 640x480 with 1 Axes>"
      ]
     },
     "metadata": {},
     "output_type": "display_data"
    }
   ],
   "source": [
    "# df_name = create_result(df_fm23_sampled, df_eafc, similarity_matrix_name)\n",
    "# df_date = create_result(df_fm23_sampled, df_eafc, similarity_matrix_date)\n",
    "\n",
    "# Create the result dataframe and weight the importances of similarities.\n",
    "# Name has a very high probability, because there are a lot name abbreviations in the data resulting in lower similarity scores\n",
    "df = create_result(df_tm_sampled, df_fm23, (1.4*similarity_matrix_name) + (0.6*similarity_matrix_date), 2).sort_values(by=['score'], ascending=False)\n",
    "\n",
    "# Plot histogram to see the distribution of the similarity scores.\n",
    "df.score.hist()"
   ]
  },
  {
   "cell_type": "code",
   "execution_count": 14,
   "metadata": {},
   "outputs": [
    {
     "data": {
      "text/plain": [
       "1176"
      ]
     },
     "execution_count": 14,
     "metadata": {},
     "output_type": "execute_result"
    }
   ],
   "source": [
    "(df.score < .8).sum()"
   ]
  },
  {
   "cell_type": "markdown",
   "metadata": {},
   "source": [
    "### Figure out suitable values for perfect_match_at_least_threshhold and corner_case_at_least_threshhold"
   ]
  },
  {
   "cell_type": "code",
   "execution_count": 15,
   "metadata": {},
   "outputs": [
    {
     "data": {
      "text/html": [
       "<div>\n",
       "<style scoped>\n",
       "    .dataframe tbody tr th:only-of-type {\n",
       "        vertical-align: middle;\n",
       "    }\n",
       "\n",
       "    .dataframe tbody tr th {\n",
       "        vertical-align: top;\n",
       "    }\n",
       "\n",
       "    .dataframe thead th {\n",
       "        text-align: right;\n",
       "    }\n",
       "</style>\n",
       "<table border=\"1\" class=\"dataframe\">\n",
       "  <thead>\n",
       "    <tr style=\"text-align: right;\">\n",
       "      <th></th>\n",
       "      <th>df1</th>\n",
       "      <th>df2</th>\n",
       "      <th>name1</th>\n",
       "      <th>birthdate1</th>\n",
       "      <th>name2</th>\n",
       "      <th>birthdate2</th>\n",
       "      <th>nat1</th>\n",
       "      <th>nat2</th>\n",
       "      <th>club1</th>\n",
       "      <th>club2</th>\n",
       "      <th>score</th>\n",
       "    </tr>\n",
       "  </thead>\n",
       "  <tbody>\n",
       "    <tr>\n",
       "      <th>2874</th>\n",
       "      <td>tm_3874</td>\n",
       "      <td>fm_4166</td>\n",
       "      <td>Brian Plat</td>\n",
       "      <td>2000-04-05</td>\n",
       "      <td>Brian Plat</td>\n",
       "      <td>2000-04-05</td>\n",
       "      <td>Netherlands</td>\n",
       "      <td>NED</td>\n",
       "      <td>FC Volendam</td>\n",
       "      <td>FC Volendam</td>\n",
       "      <td>1.000000</td>\n",
       "    </tr>\n",
       "    <tr>\n",
       "      <th>5436</th>\n",
       "      <td>tm_6436</td>\n",
       "      <td>fm_6924</td>\n",
       "      <td>Antonino Gallo</td>\n",
       "      <td>2000-01-05</td>\n",
       "      <td>Antonino Gallo</td>\n",
       "      <td>2000-01-05</td>\n",
       "      <td>Italy</td>\n",
       "      <td>ITA</td>\n",
       "      <td>US Lecce</td>\n",
       "      <td>Salento</td>\n",
       "      <td>1.000000</td>\n",
       "    </tr>\n",
       "    <tr>\n",
       "      <th>9068</th>\n",
       "      <td>tm_10068</td>\n",
       "      <td>fm_11899</td>\n",
       "      <td>Ben Wilmot</td>\n",
       "      <td>1999-11-04</td>\n",
       "      <td>Ben Wilmot</td>\n",
       "      <td>1999-11-04</td>\n",
       "      <td>England</td>\n",
       "      <td>ENG</td>\n",
       "      <td>Stoke City</td>\n",
       "      <td>Stoke</td>\n",
       "      <td>1.000000</td>\n",
       "    </tr>\n",
       "    <tr>\n",
       "      <th>461</th>\n",
       "      <td>tm_1461</td>\n",
       "      <td>fm_1452</td>\n",
       "      <td>Derrick Jones</td>\n",
       "      <td>1997-03-03</td>\n",
       "      <td>Derrick Jones</td>\n",
       "      <td>1997-03-03</td>\n",
       "      <td>United States</td>\n",
       "      <td>USA</td>\n",
       "      <td>Charlotte FC</td>\n",
       "      <td>Charlotte FC</td>\n",
       "      <td>1.000000</td>\n",
       "    </tr>\n",
       "    <tr>\n",
       "      <th>8410</th>\n",
       "      <td>tm_9410</td>\n",
       "      <td>fm_15822</td>\n",
       "      <td>Jandro Orellana</td>\n",
       "      <td>2000-08-07</td>\n",
       "      <td>Jandro Orellana</td>\n",
       "      <td>2000-08-07</td>\n",
       "      <td>Spain</td>\n",
       "      <td>ESP</td>\n",
       "      <td>FC Andorra</td>\n",
       "      <td>F.C. Andorra</td>\n",
       "      <td>1.000000</td>\n",
       "    </tr>\n",
       "    <tr>\n",
       "      <th>...</th>\n",
       "      <td>...</td>\n",
       "      <td>...</td>\n",
       "      <td>...</td>\n",
       "      <td>...</td>\n",
       "      <td>...</td>\n",
       "      <td>...</td>\n",
       "      <td>...</td>\n",
       "      <td>...</td>\n",
       "      <td>...</td>\n",
       "      <td>...</td>\n",
       "      <td>...</td>\n",
       "    </tr>\n",
       "    <tr>\n",
       "      <th>4899</th>\n",
       "      <td>tm_5899</td>\n",
       "      <td>fm_16911</td>\n",
       "      <td>Étienne Youté Kinkoué</td>\n",
       "      <td>2002-01-14</td>\n",
       "      <td>Etienne Catena</td>\n",
       "      <td>2004-01-01</td>\n",
       "      <td>France</td>\n",
       "      <td>ITA</td>\n",
       "      <td>Le Havre AC</td>\n",
       "      <td>Sporting CP</td>\n",
       "      <td>0.375000</td>\n",
       "    </tr>\n",
       "    <tr>\n",
       "      <th>3955</th>\n",
       "      <td>tm_4955</td>\n",
       "      <td>fm_11406</td>\n",
       "      <td>Modestas Vorobjovas</td>\n",
       "      <td>1995-12-30</td>\n",
       "      <td>Ollie Watkins</td>\n",
       "      <td>1995-12-30</td>\n",
       "      <td>Lithuania</td>\n",
       "      <td>ENG</td>\n",
       "      <td>Istanbulspor</td>\n",
       "      <td>Aston Villa</td>\n",
       "      <td>0.373684</td>\n",
       "    </tr>\n",
       "    <tr>\n",
       "      <th>3320</th>\n",
       "      <td>tm_4320</td>\n",
       "      <td>fm_12235</td>\n",
       "      <td>Kayque</td>\n",
       "      <td>2000-07-12</td>\n",
       "      <td>Joe Buršík</td>\n",
       "      <td>2000-07-12</td>\n",
       "      <td>Brazil</td>\n",
       "      <td>ENG</td>\n",
       "      <td>None</td>\n",
       "      <td>Stoke</td>\n",
       "      <td>0.370000</td>\n",
       "    </tr>\n",
       "    <tr>\n",
       "      <th>4353</th>\n",
       "      <td>tm_5353</td>\n",
       "      <td>fm_3109</td>\n",
       "      <td>Ukra</td>\n",
       "      <td>1988-03-16</td>\n",
       "      <td>Martin Männel</td>\n",
       "      <td>1988-03-16</td>\n",
       "      <td>Portugal</td>\n",
       "      <td>GER</td>\n",
       "      <td>Rio Ave FC</td>\n",
       "      <td>Erzgebirge Aue</td>\n",
       "      <td>0.353846</td>\n",
       "    </tr>\n",
       "    <tr>\n",
       "      <th>8595</th>\n",
       "      <td>tm_9595</td>\n",
       "      <td>fm_15464</td>\n",
       "      <td>Piña</td>\n",
       "      <td>1994-10-30</td>\n",
       "      <td>Pejiño</td>\n",
       "      <td>1996-07-29</td>\n",
       "      <td>Spain</td>\n",
       "      <td>ESP</td>\n",
       "      <td>CD Eldense</td>\n",
       "      <td>Las Palmas</td>\n",
       "      <td>0.350000</td>\n",
       "    </tr>\n",
       "  </tbody>\n",
       "</table>\n",
       "<p>3500 rows × 11 columns</p>\n",
       "</div>"
      ],
      "text/plain": [
       "           df1       df2                  name1  birthdate1            name2  \\\n",
       "2874   tm_3874   fm_4166             Brian Plat  2000-04-05       Brian Plat   \n",
       "5436   tm_6436   fm_6924         Antonino Gallo  2000-01-05   Antonino Gallo   \n",
       "9068  tm_10068  fm_11899             Ben Wilmot  1999-11-04       Ben Wilmot   \n",
       "461    tm_1461   fm_1452          Derrick Jones  1997-03-03    Derrick Jones   \n",
       "8410   tm_9410  fm_15822        Jandro Orellana  2000-08-07  Jandro Orellana   \n",
       "...        ...       ...                    ...         ...              ...   \n",
       "4899   tm_5899  fm_16911  Étienne Youté Kinkoué  2002-01-14   Etienne Catena   \n",
       "3955   tm_4955  fm_11406    Modestas Vorobjovas  1995-12-30    Ollie Watkins   \n",
       "3320   tm_4320  fm_12235                 Kayque  2000-07-12       Joe Buršík   \n",
       "4353   tm_5353   fm_3109                   Ukra  1988-03-16    Martin Männel   \n",
       "8595   tm_9595  fm_15464                   Piña  1994-10-30           Pejiño   \n",
       "\n",
       "      birthdate2           nat1 nat2         club1           club2     score  \n",
       "2874  2000-04-05    Netherlands  NED   FC Volendam     FC Volendam  1.000000  \n",
       "5436  2000-01-05          Italy  ITA      US Lecce         Salento  1.000000  \n",
       "9068  1999-11-04        England  ENG    Stoke City           Stoke  1.000000  \n",
       "461   1997-03-03  United States  USA  Charlotte FC    Charlotte FC  1.000000  \n",
       "8410  2000-08-07          Spain  ESP    FC Andorra    F.C. Andorra  1.000000  \n",
       "...          ...            ...  ...           ...             ...       ...  \n",
       "4899  2004-01-01         France  ITA   Le Havre AC     Sporting CP  0.375000  \n",
       "3955  1995-12-30      Lithuania  ENG  Istanbulspor     Aston Villa  0.373684  \n",
       "3320  2000-07-12         Brazil  ENG          None           Stoke  0.370000  \n",
       "4353  1988-03-16       Portugal  GER    Rio Ave FC  Erzgebirge Aue  0.353846  \n",
       "8595  1996-07-29          Spain  ESP    CD Eldense      Las Palmas  0.350000  \n",
       "\n",
       "[3500 rows x 11 columns]"
      ]
     },
     "metadata": {},
     "output_type": "display_data"
    }
   ],
   "source": [
    "# pd.set_option('display.max_rows', None)\n",
    "display(df)"
   ]
  },
  {
   "cell_type": "code",
   "execution_count": 16,
   "metadata": {},
   "outputs": [
    {
     "name": "stdout",
     "output_type": "stream",
     "text": [
      "Length of perfect_matches: 2048, 58.51%\n",
      "Length of corner cases: 1284, 36.69%\n",
      "Length of non_matches 168, 4.80%\n"
     ]
    }
   ],
   "source": [
    "# create datasets for perfect_matches, corner_cases, non_matches\n",
    "perfect_match_at_least_threshhold = 1\n",
    "corner_case_at_least_threshhold = 0.45\n",
    "\n",
    "perfect_matches = get_perfect_matches(df, perfect_match_at_least_threshhold)\n",
    "corner_cases = get_corner_cases(df, perfect_match_at_least_threshhold, corner_case_at_least_threshhold)\n",
    "non_matches = get_non_matches(df, corner_case_at_least_threshhold, n=500)\n",
    "\n",
    "print(f\"Length of perfect_matches: {len(perfect_matches)}, {(len(perfect_matches) / len(df) * 100):.2f}%\")\n",
    "print(f\"Length of corner cases: {len(corner_cases)}, {(len(corner_cases) / len(df) * 100):.2f}%\")\n",
    "print(f\"Length of non_matches {len(non_matches)}, {(len(non_matches) / len(df) * 100):.2f}%\")"
   ]
  },
  {
   "cell_type": "code",
   "execution_count": 23,
   "metadata": {},
   "outputs": [],
   "source": [
    "# Save all perfect matches\n",
    "perfect_matches.to_csv('perfect_matches_tm_fm_v3.csv', index=False)\n",
    "\n",
    "# Save corner cases to disk\n",
    "max_corner_cases = 600\n",
    "corner_cases.sort_values(by=['score'], ascending=True).head(max_corner_cases).to_csv('corner_cases_tm_fm_v3.csv', index=False)\n",
    "\n",
    "# Save non matches to disk\n",
    "non_matches.to_csv('non_matches_tm_fm_v3.csv', index=False)"
   ]
  },
  {
   "cell_type": "code",
   "execution_count": null,
   "metadata": {},
   "outputs": [],
   "source": []
  }
 ],
 "metadata": {
  "kernelspec": {
   "display_name": "Python 3",
   "language": "python",
   "name": "python3"
  },
  "language_info": {
   "codemirror_mode": {
    "name": "ipython",
    "version": 3
   },
   "file_extension": ".py",
   "mimetype": "text/x-python",
   "name": "python",
   "nbconvert_exporter": "python",
   "pygments_lexer": "ipython3",
   "version": "3.11.1"
  }
 },
 "nbformat": 4,
 "nbformat_minor": 2
}
