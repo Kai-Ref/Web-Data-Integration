{
 "cells": [
  {
   "cell_type": "code",
   "execution_count": 1,
   "metadata": {},
   "outputs": [],
   "source": [
    "import sys\n",
    "sys.path.append('../')  # Füge das übergeordnete Verzeichnis zum Python-Pfad hinzu\n",
    "\n",
    "# Jetzt kannst du das Modul aus dem übergeordneten Verzeichnis importieren\n",
    "from gold_standard import * "
   ]
  },
  {
   "cell_type": "code",
   "execution_count": 2,
   "metadata": {},
   "outputs": [],
   "source": [
    "# Read XML-Files\n",
    "df_eafc = pd.read_xml('../../Football-Project/data/xml-files/eafc_final.xml')\n",
    "# df_fm23 = pd.read_xml('../../Football-Project/data/xml-files/fm23_final.xml')\n",
    "df_tm = pd.read_xml('../../Football-Project/data/xml-files/tm_final.xml')\n",
    "\n",
    "# Take only a sample of the whole dataset. Saves compute power\n",
    "subset_size = 1500\n",
    "df_eafc_sampled = df_eafc.sample(n=subset_size, random_state=42)"
   ]
  },
  {
   "cell_type": "code",
   "execution_count": 3,
   "metadata": {},
   "outputs": [],
   "source": [
    "# Create similarity matrixes for differenct similarity functions and columns\n",
    "similarity_matrix_name = get_similarity_matrix(leventstein_similarity, df_eafc_sampled['name'], df_tm['name'])\n",
    "similarity_matrix_date = get_similarity_matrix(date_similarity, df_eafc_sampled['birthdate'], df_tm['birthdate'])\n",
    "#similarity_matrix_club = get_similarity_matrix(leventstein_similarity, df_eafc_sampled['club'], df_tm['club'])"
   ]
  },
  {
   "cell_type": "code",
   "execution_count": 4,
   "metadata": {},
   "outputs": [
    {
     "data": {
      "text/plain": [
       "<Axes: >"
      ]
     },
     "execution_count": 4,
     "metadata": {},
     "output_type": "execute_result"
    },
    {
     "data": {
      "image/png": "[encoded data removed]",
      "text/plain": [
       "<Figure size 640x480 with 1 Axes>"
      ]
     },
     "metadata": {},
     "output_type": "display_data"
    }
   ],
   "source": [
    "# df_name = create_result(df_fm23_sampled, df_eafc, similarity_matrix_name)\n",
    "# df_date = create_result(df_fm23_sampled, df_eafc, similarity_matrix_date)\n",
    "\n",
    "# Create the result dataframe and weight the importances of similarities.\n",
    "# Name has a very high probability, because there are a lot name abbreviations in the data resulting in lower similarity scores\n",
    "df = create_result(df_eafc_sampled, df_tm, (1.4*similarity_matrix_name) + (0.6*similarity_matrix_date), 2).sort_values(by=['score'], ascending=False)\n",
    "\n",
    "# Plot histogram to see the distribution of the similarity scores.\n",
    "df.score.hist()"
   ]
  },
  {
   "cell_type": "markdown",
   "metadata": {},
   "source": [
    "### Figure out suitable values for perfect_match_at_least_threshhold and corner_case_at_least_threshhold"
   ]
  },
  {
   "cell_type": "code",
   "execution_count": 6,
   "metadata": {},
   "outputs": [],
   "source": [
    "# pd.set_option('display.max_rows', None)\n",
    "display(df)"
   ]
  },
  {
   "cell_type": "code",
   "execution_count": 12,
   "metadata": {},
   "outputs": [
    {
     "name": "stdout",
     "output_type": "stream",
     "text": [
      "Length of perfect_matches: 158, 10.53%\n",
      "Length of corner cases: 1309, 87.27%\n",
      "Length of non_matches 33, 2.20%\n"
     ]
    }
   ],
   "source": [
    "# create datasets for perfect_matches, corner_cases, non_matches\n",
    "perfect_match_at_least_threshhold = 1\n",
    "corner_case_at_least_threshhold = 0.40\n",
    "\n",
    "perfect_matches = get_perfect_matches(df, perfect_match_at_least_threshhold)\n",
    "corner_cases = get_corner_cases(df, perfect_match_at_least_threshhold, corner_case_at_least_threshhold)\n",
    "non_matches = get_non_matches(df, corner_case_at_least_threshhold)\n",
    "\n",
    "print(f\"Length of perfect_matches: {len(perfect_matches)}, {(len(perfect_matches) / len(df) * 100):.2f}%\")\n",
    "print(f\"Length of corner cases: {len(corner_cases)}, {(len(corner_cases) / len(df) * 100):.2f}%\")\n",
    "print(f\"Length of non_matches {len(non_matches)}, {(len(non_matches) / len(df) * 100):.2f}%\")"
   ]
  },
  {
   "cell_type": "code",
   "execution_count": 18,
   "metadata": {},
   "outputs": [],
   "source": [
    "# Save all perfect matches\n",
    "perfect_matches.to_csv('perfect_matches_ea_tm.csv', index=False)\n",
    "\n",
    "# Save corner cases to disk\n",
    "# max_corner_cases = None\n",
    "# corner_cases.sort_values(by=['score'], ascending=True).head(max_corner_cases).to_csv('corner_cases_ea_tm.csv', index=False)\n",
    "\n",
    "# # Save non matches to disk\n",
    "# non_matches.to_csv('non_matches_ea_tm.csv', index=False)"
   ]
  },
  {
   "cell_type": "code",
   "execution_count": 15,
   "metadata": {},
   "outputs": [],
   "source": [
    "pd.set_option('display.max_rows', None)\n",
    "corner_cases.tail(150).to_csv('corner_cases_ea_tm_extended_Nursultan.csv', index=False)"
   ]
  }
 ],
 "metadata": {
  "kernelspec": {
   "display_name": "Python 3",
   "language": "python",
   "name": "python3"
  },
  "language_info": {
   "codemirror_mode": {
    "name": "ipython",
    "version": 3
   },
   "file_extension": ".py",
   "mimetype": "text/x-python",
   "name": "python",
   "nbconvert_exporter": "python",
   "pygments_lexer": "ipython3",
   "version": "3.11.1"
  }
 },
 "nbformat": 4,
 "nbformat_minor": 2
}
