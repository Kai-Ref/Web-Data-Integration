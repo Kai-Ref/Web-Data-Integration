{
 "cells": [
  {
   "cell_type": "code",
   "execution_count": 63,
   "metadata": {},
   "outputs": [],
   "source": [
    "import pandas as pd"
   ]
  },
  {
   "cell_type": "code",
   "execution_count": 68,
   "metadata": {},
   "outputs": [],
   "source": [
    "df = pd.read_csv('data/FIFA-dataset/male_players.csv')"
   ]
  },
  {
   "cell_type": "code",
   "execution_count": 69,
   "metadata": {},
   "outputs": [
    {
     "name": "stdout",
     "output_type": "stream",
     "text": [
      "<class 'pandas.core.frame.DataFrame'>\n",
      "RangeIndex: 180021 entries, 0 to 180020\n",
      "Data columns (total 109 columns):\n",
      " #    Column                          Dtype  \n",
      "---   ------                          -----  \n",
      " 0    player_id                       int64  \n",
      " 1    player_url                      object \n",
      " 2    fifa_version                    float64\n",
      " 3    fifa_update                     float64\n",
      " 4    update_as_of                    object \n",
      " 5    short_name                      object \n",
      " 6    long_name                       object \n",
      " 7    player_positions                object \n",
      " 8    overall                         int64  \n",
      " 9    potential                       int64  \n",
      " 10   value_eur                       float64\n",
      " 11   wage_eur                        float64\n",
      " 12   age                             int64  \n",
      " 13   dob                             object \n",
      " 14   height_cm                       int64  \n",
      " 15   weight_kg                       int64  \n",
      " 16   club_team_id                    float64\n",
      " 17   club_name                       object \n",
      " 18   league_id                       float64\n",
      " 19   league_name                     object \n",
      " 20   league_level                    float64\n",
      " 21   club_position                   object \n",
      " 22   club_jersey_number              float64\n",
      " 23   club_loaned_from                object \n",
      " 24   club_joined_date                object \n",
      " 25   club_contract_valid_until_year  float64\n",
      " 26   nationality_id                  int64  \n",
      " 27   nationality_name                object \n",
      " 28   nation_team_id                  float64\n",
      " 29   nation_position                 object \n",
      " 30   nation_jersey_number            float64\n",
      " 31   preferred_foot                  object \n",
      " 32   weak_foot                       int64  \n",
      " 33   skill_moves                     int64  \n",
      " 34   international_reputation        int64  \n",
      " 35   work_rate                       object \n",
      " 36   body_type                       object \n",
      " 37   real_face                       object \n",
      " 38   release_clause_eur              float64\n",
      " 39   player_tags                     object \n",
      " 40   player_traits                   object \n",
      " 41   pace                            float64\n",
      " 42   shooting                        float64\n",
      " 43   passing                         float64\n",
      " 44   dribbling                       float64\n",
      " 45   defending                       float64\n",
      " 46   physic                          float64\n",
      " 47   attacking_crossing              int64  \n",
      " 48   attacking_finishing             int64  \n",
      " 49   attacking_heading_accuracy      int64  \n",
      " 50   attacking_short_passing         int64  \n",
      " 51   attacking_volleys               int64  \n",
      " 52   skill_dribbling                 int64  \n",
      " 53   skill_curve                     int64  \n",
      " 54   skill_fk_accuracy               int64  \n",
      " 55   skill_long_passing              int64  \n",
      " 56   skill_ball_control              int64  \n",
      " 57   movement_acceleration           int64  \n",
      " 58   movement_sprint_speed           int64  \n",
      " 59   movement_agility                int64  \n",
      " 60   movement_reactions              int64  \n",
      " 61   movement_balance                int64  \n",
      " 62   power_shot_power                int64  \n",
      " 63   power_jumping                   int64  \n",
      " 64   power_stamina                   int64  \n",
      " 65   power_strength                  int64  \n",
      " 66   power_long_shots                int64  \n",
      " 67   mentality_aggression            int64  \n",
      " 68   mentality_interceptions         int64  \n",
      " 69   mentality_positioning           int64  \n",
      " 70   mentality_vision                int64  \n",
      " 71   mentality_penalties             int64  \n",
      " 72   mentality_composure             float64\n",
      " 73   defending_marking_awareness     int64  \n",
      " 74   defending_standing_tackle       int64  \n",
      " 75   defending_sliding_tackle        int64  \n",
      " 76   goalkeeping_diving              int64  \n",
      " 77   goalkeeping_handling            int64  \n",
      " 78   goalkeeping_kicking             int64  \n",
      " 79   goalkeeping_positioning         int64  \n",
      " 80   goalkeeping_reflexes            int64  \n",
      " 81   goalkeeping_speed               float64\n",
      " 82   ls                              object \n",
      " 83   st                              object \n",
      " 84   rs                              object \n",
      " 85   lw                              object \n",
      " 86   lf                              object \n",
      " 87   cf                              object \n",
      " 88   rf                              object \n",
      " 89   rw                              object \n",
      " 90   lam                             object \n",
      " 91   cam                             object \n",
      " 92   ram                             object \n",
      " 93   lm                              object \n",
      " 94   lcm                             object \n",
      " 95   cm                              object \n",
      " 96   rcm                             object \n",
      " 97   rm                              object \n",
      " 98   lwb                             object \n",
      " 99   ldm                             object \n",
      " 100  cdm                             object \n",
      " 101  rdm                             object \n",
      " 102  rwb                             object \n",
      " 103  lb                              object \n",
      " 104  lcb                             object \n",
      " 105  cb                              object \n",
      " 106  rcb                             object \n",
      " 107  rb                              object \n",
      " 108  gk                              object \n",
      "dtypes: float64(20), int64(43), object(46)\n",
      "memory usage: 149.7+ MB\n"
     ]
    }
   ],
   "source": [
    "df.info(verbose = True)"
   ]
  },
  {
   "cell_type": "code",
   "execution_count": 70,
   "metadata": {},
   "outputs": [],
   "source": [
    "df.columns.values\n",
    "df = df.drop(columns = ['player_url', 'fifa_update',\n",
    "       'update_as_of', 'potential', 'club_team_id',\n",
    "       'league_level', 'club_position', 'club_loaned_from', 'club_joined_date',\n",
    "       'club_contract_valid_until_year', 'nationality_id',\n",
    "       'nation_team_id', 'nation_position',\n",
    "       'nation_jersey_number', 'weak_foot',\n",
    "       'skill_moves', 'international_reputation', 'work_rate',\n",
    "       'body_type', 'real_face', 'release_clause_eur', 'player_tags',\n",
    "       'player_traits', 'pace', 'shooting', 'passing', 'dribbling',\n",
    "       'defending', 'physic', 'attacking_crossing', 'attacking_finishing',\n",
    "       'attacking_heading_accuracy', 'attacking_short_passing',\n",
    "       'attacking_volleys', 'skill_dribbling', 'skill_curve',\n",
    "       'skill_fk_accuracy', 'skill_long_passing', 'skill_ball_control',\n",
    "       'movement_acceleration', 'movement_sprint_speed',\n",
    "       'movement_agility', 'movement_reactions', 'movement_balance',\n",
    "       'power_shot_power', 'power_jumping', 'power_stamina',\n",
    "       'power_strength', 'power_long_shots', 'mentality_aggression',\n",
    "       'mentality_interceptions', 'mentality_positioning',\n",
    "       'mentality_vision', 'mentality_penalties', 'mentality_composure',\n",
    "       'defending_marking_awareness', 'defending_standing_tackle',\n",
    "       'defending_sliding_tackle', 'goalkeeping_diving',\n",
    "       'goalkeeping_handling', 'goalkeeping_kicking',\n",
    "       'goalkeeping_positioning', 'goalkeeping_reflexes',\n",
    "       'goalkeeping_speed', 'ls', 'st', 'rs', 'lw', 'lf', 'cf', 'rf',\n",
    "       'rw', 'lam', 'cam', 'ram', 'lm', 'lcm', 'cm', 'rcm', 'rm', 'lwb',\n",
    "       'ldm', 'cdm', 'rdm', 'rwb', 'lb', 'lcb', 'cb', 'rcb', 'rb', 'gk'])"
   ]
  },
  {
   "cell_type": "code",
   "execution_count": 71,
   "metadata": {},
   "outputs": [],
   "source": [
    "#filter for 18 certain leagues only\n",
    "df24 = df[df['fifa_version'] == 24]\n",
    "leagues = [\"Premier League\", 'Jupiler Pro League', \"Bundesliga\", '3. Liga', \"Serie A\", \"La Liga\", \"Ligue 1\", \"Eredivisie\",\n",
    "            'Championship', 'La Liga 2', 'Serie B', '2. Bundesliga', 'Ligue 2', 'Liga Portugal', 'Super Lig', 'Major League Soccer',\n",
    "            \"Pro League\"]\n",
    "df_leagues = df24[df24['league_name'].isin(leagues)]\n",
    "\n",
    "#as there are several Super Leagues, the Chinese Super League needs to be merge by league_id (20120)\n",
    "df_chinese = df24[df24['league_id'] == 2012]"
   ]
  },
  {
   "cell_type": "code",
   "execution_count": 72,
   "metadata": {},
   "outputs": [
    {
     "data": {
      "text/plain": [
       "array(['Liga Portugal', 'Pro League', 'La Liga', 'Ligue 1',\n",
       "       'Major League Soccer', 'Serie A', '2. Bundesliga', 'Ligue 2',\n",
       "       'Premier League', 'Eredivisie', 'Serie B', 'Jupiler Pro League',\n",
       "       'Super Lig', 'La Liga 2', 'Championship', 'Bundesliga', '3. Liga',\n",
       "       'Super League'], dtype=object)"
      ]
     },
     "execution_count": 72,
     "metadata": {},
     "output_type": "execute_result"
    }
   ],
   "source": [
    "df_combined = pd.concat([df_leagues, df_chinese], ignore_index=True)\n",
    "df_combined.head()\n",
    "df_combined['league_name'].unique()"
   ]
  },
  {
   "cell_type": "code",
   "execution_count": 73,
   "metadata": {},
   "outputs": [],
   "source": [
    "df_combined.to_csv(\"eafc24_preprocessed.csv\", index=False)"
   ]
  }
 ],
 "metadata": {
  "kernelspec": {
   "display_name": "Python 3",
   "language": "python",
   "name": "python3"
  },
  "language_info": {
   "codemirror_mode": {
    "name": "ipython",
    "version": 3
   },
   "file_extension": ".py",
   "mimetype": "text/x-python",
   "name": "python",
   "nbconvert_exporter": "python",
   "pygments_lexer": "ipython3",
   "version": "3.9.5"
  }
 },
 "nbformat": 4,
 "nbformat_minor": 2
}
